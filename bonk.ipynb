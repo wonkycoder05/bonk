{
 "cells": [
  {
   "cell_type": "code",
   "execution_count": 1,
   "id": "1824f80c-efa8-4620-b49e-f2f2eb613854",
   "metadata": {
    "tags": []
   },
   "outputs": [
    {
     "name": "stdout",
     "output_type": "stream",
     "text": [
      "bonk\n"
     ]
    }
   ],
   "source": [
    "print(\"bonk\")"
   ]
  },
  {
   "cell_type": "code",
   "execution_count": null,
   "id": "179361e2-b306-433c-bf45-3b8f805c692a",
   "metadata": {},
   "outputs": [],
   "source": []
  }
 ],
 "metadata": {
  "kernelspec": {
   "display_name": "Python 3 (ipykernel)",
   "language": "python",
   "name": "python3"
  },
  "language_info": {
   "codemirror_mode": {
    "name": "ipython",
    "version": 3
   },
   "file_extension": ".py",
   "mimetype": "text/x-python",
   "name": "python",
   "nbconvert_exporter": "python",
   "pygments_lexer": "ipython3",
   "version": "3.11.4"
  }
 },
 "nbformat": 4,
 "nbformat_minor": 5
}
